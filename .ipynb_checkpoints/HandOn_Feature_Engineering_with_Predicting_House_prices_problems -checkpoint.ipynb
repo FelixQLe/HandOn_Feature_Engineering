{
 "cells": [
  {
   "cell_type": "markdown",
   "id": "c2493a11",
   "metadata": {},
   "source": [
    "In this repo, I will use Feature Engineer techniques, I have learned in Feature Engineering practices, to improve predictive power for House Prices problems"
   ]
  },
  {
   "cell_type": "code",
   "execution_count": null,
   "id": "e5b3d772",
   "metadata": {},
   "outputs": [],
   "source": []
  }
 ],
 "metadata": {
  "kernelspec": {
   "display_name": "pro_project",
   "language": "python",
   "name": "pro_project"
  },
  "language_info": {
   "codemirror_mode": {
    "name": "ipython",
    "version": 3
   },
   "file_extension": ".py",
   "mimetype": "text/x-python",
   "name": "python",
   "nbconvert_exporter": "python",
   "pygments_lexer": "ipython3",
   "version": "3.10.9"
  }
 },
 "nbformat": 4,
 "nbformat_minor": 5
}

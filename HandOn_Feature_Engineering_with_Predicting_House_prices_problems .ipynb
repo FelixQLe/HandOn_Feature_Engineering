{
 "cells": [
  {
   "cell_type": "markdown",
   "id": "5bc84a04",
   "metadata": {},
   "source": [
    "In this repo, I will use Feature Engineer techniques, I have learned in Feature Engineering practices, to improve predictive power for House Prices problems"
   ]
  },
  {
   "cell_type": "markdown",
   "id": "598791af",
   "metadata": {},
   "source": [
    "### 1. Studying the dataset"
   ]
  },
  {
   "cell_type": "code",
   "execution_count": null,
   "id": "6bf05980",
   "metadata": {},
   "outputs": [],
   "source": [
    "import pandas as pd\n",
    "\n",
    "data_disc = pd.read_csv()"
   ]
  }
 ],
 "metadata": {
  "kernelspec": {
   "display_name": "pro_project",
   "language": "python",
   "name": "pro_project"
  },
  "language_info": {
   "codemirror_mode": {
    "name": "ipython",
    "version": 3
   },
   "file_extension": ".py",
   "mimetype": "text/x-python",
   "name": "python",
   "nbconvert_exporter": "python",
   "pygments_lexer": "ipython3",
   "version": "3.10.9"
  }
 },
 "nbformat": 4,
 "nbformat_minor": 5
}
